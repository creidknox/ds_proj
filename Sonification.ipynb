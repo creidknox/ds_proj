{
 "cells": [
  {
   "cell_type": "code",
   "execution_count": 1071,
   "metadata": {
    "collapsed": true
   },
   "outputs": [],
   "source": [
    "import pandas as pd\n",
    "import math\n",
    "import random\n",
    "\"\"\"\n",
    "Data acquisition of data for sonification, plus some preprocessing\n",
    "\"\"\"\n",
    "# Read the data in\n",
    "df = pd.read_csv('data/backward_all.csv')"
   ]
  },
  {
   "cell_type": "code",
   "execution_count": 1072,
   "metadata": {
    "collapsed": true
   },
   "outputs": [],
   "source": [
    "# Convert to negative weeks to death, so numbers are in chronological order\n",
    "df = df.sort_values(by='weeks_to_death', ascending=False)"
   ]
  },
  {
   "cell_type": "code",
   "execution_count": 1073,
   "metadata": {},
   "outputs": [],
   "source": [
    "#df.head()\n",
    "#df.database.unique()"
   ]
  },
  {
   "cell_type": "code",
   "execution_count": 1074,
   "metadata": {},
   "outputs": [],
   "source": [
    "# Select averages for FEMALES in FMC_EUROPE\n",
    "# Get subset of the dataframe to sonify - already sorted by weeks_to_death desc\n",
    "son_vars = df.loc[(df['database'] == 'FMC_EUROPE') & (df['MALE'] == 0), ['albumin_avg', 'idwg_percent_avg', 'pre_sbp_avg', 'crp_avg']]\n",
    "weeks_to_death = df.loc[(df['database'] == 'FMC_EUROPE') & (df['MALE'] == 0), 'weeks_to_death']"
   ]
  },
  {
   "cell_type": "code",
   "execution_count": 1075,
   "metadata": {},
   "outputs": [],
   "source": [
    "#take 5 week rolling average, then normalize the values\n",
    "son_vars = son_vars.rolling(5, min_periods=1).mean()[5:]\n",
    "son_vars = (son_vars - son_vars.min())/(son_vars.max() - son_vars.min())\n",
    "son_vars['weeks_to_death'] = weeks_to_death\n",
    "#son_vars"
   ]
  },
  {
   "cell_type": "code",
   "execution_count": 1076,
   "metadata": {
    "collapsed": true
   },
   "outputs": [],
   "source": [
    "\"\"\"\n",
    "Global Variables\n",
    "\"\"\"\n",
    "# Music Config\n",
    "BPM = 120 # Beats per minute, e.g. 60, 75, 100, 120, 150\n",
    "DIVISIONS_PER_BEAT = 4 # e.g. 4 = quarter notes, 8 = eighth notes\n",
    "VARIANCE_MS = 20 # +/- milliseconds an instrument note should be off by to give it a little more \"natural\" feel\n",
    "VARIANCE_RATE = 0 # for adding variance to the playback rate\n",
    "BEAT_MS = round(60.0 / BPM * 1000) # ms in a beat - 500\n",
    "# File config\n",
    "# Whole Tone Scale\n",
    "INSTRUMENTS_INPUT_FILE = 'instrumentation/son_instruments_7.csv'\n",
    "# Single Chord (also 14, but did not use)\n",
    "#INSTRUMENTS_INPUT_FILE = 'instrumentation/son_instruments_11.csv'\n",
    "# Chord Alternation\n",
    "#INSTRUMENTS_INPUT_FILE = 'instrumentation/son_instruments_8.csv'\n",
    "INSTRUMENTS_OUTPUT_FILE = 'data/chk_instruments.csv'\n",
    "SEQUENCE_OUTPUT_FILE = 'data/chk_sequence.csv'\n",
    "INSTRUMENTS_DIR = 'instruments/'"
   ]
  },
  {
   "cell_type": "code",
   "execution_count": 1077,
   "metadata": {
    "collapsed": true
   },
   "outputs": [],
   "source": [
    "\"\"\"\n",
    "Data acquisition of instruments\n",
    "\"\"\"\n",
    "# Read in instruments data, do some preprocessing\n",
    "instruments = pd.read_table(INSTRUMENTS_INPUT_FILE)\n",
    "instruments['Type'] = instruments['Type'].str.lower().str.replace(' ','_')\n",
    "instruments['File'] = INSTRUMENTS_DIR + instruments['File']"
   ]
  },
  {
   "cell_type": "code",
   "execution_count": 1078,
   "metadata": {
    "collapsed": true
   },
   "outputs": [],
   "source": [
    "\"\"\"\n",
    "Writing to the sequence file that will create the musical sequence (the song)\n",
    "@param  gain        The gain (volume) of the instrument - this will be equivilent to the value of the variable that week\n",
    "@param  instrument  The current instrument being added\n",
    "@param  ms          The current location in the sequence (song)\n",
    "@param  duration    The number of ms that makes up a data point (week) in the sequence (song)\n",
    "\"\"\"\n",
    "\"\"\"\n",
    "Explanation of Tempo Offset\n",
    "    Tempo Offset of 0 will play the instrument on the fitst beat\n",
    "    Tempo Offset of 0.5 will play the instrument on the offbeat\n",
    "    Tempo Offset of 1 will play the instrument on the second beat\n",
    "\"\"\"\n",
    "def addBeatsToSequence(gain, instrument, ms, duration):\n",
    "    # Will this instrument be offset? Add the amount of ms the instrument will be offset\n",
    "    ms += int(instrument['Tempo Offset'] * BEAT_MS)\n",
    "    # Generate a pseudo-random number to create a pseudo-random variance\n",
    "    h = random.uniform(0, 1)\n",
    "    variance = int(h * VARIANCE_MS * 2 - VARIANCE_MS)\n",
    "    rate_variance = float(h * VARIANCE_RATE * 2 - VARIANCE_RATE) # This is currently always 0\n",
    "    return({\n",
    "        'instrument_index': instrument['index'] + 1,\n",
    "        'instrument': instrument,\n",
    "        'position': 0,\n",
    "        'gain': round(gain, 2),\n",
    "        'rate': 1.0 + rate_variance, # CRK do we need variance_rate\n",
    "        'elapsed_ms': ms #max([ms + variance, 0])\n",
    "    })"
   ]
  },
  {
   "cell_type": "code",
   "execution_count": 1079,
   "metadata": {
    "collapsed": true
   },
   "outputs": [],
   "source": [
    "\"\"\"\n",
    "This is where the sequence is built\n",
    "    Make a set duration for how long we will spend on each data point (in this case, each data point represents a week)\n",
    "    Loop through each instrument in the given instrument csv\n",
    "    For each instrument, loop through the variable values\n",
    "        An instrument is played for the variable if the value of the variable is greater than the allowed variable for the instrument\n",
    "            If an instrument is played, add that beat to the sequence file\n",
    "        Incrument where we are in the song (ms defines where we are in the song)\n",
    "\"\"\"\n",
    "# Amount of time, in MS, to spend on each data point\n",
    "week_duration = 500\n",
    "sequence = []\n",
    "\n",
    "# Loop through each instrument\n",
    "for index, instrument in enumerate(instruments.iterrows()):\n",
    "    # ms represents the current place in the sequence (song)\n",
    "    ms = 0\n",
    "    # Skip the first line of the instrument file (headers)\n",
    "    instrument = instrument[1]\n",
    "    instrument['index'] = index\n",
    "    min_var = instrument['Min Var']\n",
    "    # Check for the existence of a max var because of the different test files of instruments\n",
    "    max_var = instrument['Max Var'] if 'Max Var' in instrument else -1\n",
    "    instrument_type = (instrument['Type'])\n",
    "    #print(instrument_type)\n",
    "    #print(instrument['Type'])\n",
    "    #Loop through each week's value\n",
    "    \"\"\"\"\n",
    "    for week_val in son_vars:\n",
    "        play_instrument = (week_val*100) > min_var\n",
    "        if play_instrument:\n",
    "            sequence.append(addBeatsToSequence(week_val, instrument, ms, week_duration))\n",
    "        ms += week_duration\n",
    "    \"\"\"\n",
    "    for index, data in (son_vars.iterrows()):\n",
    "        # Skip the first line of the data file (headers)\n",
    "        # Get the type of instrument that is being considered and choose the varible it represents\n",
    "        # idwg_percent_avg represented by wind\n",
    "        if (instrument_type == 'wind'):\n",
    "            #continue\n",
    "            week_val = data.idwg_percent_avg\n",
    "        # albumin_avg represented by percussion\n",
    "        elif (instrument_type == 'percussion'):\n",
    "            #continue\n",
    "            week_val = data.albumin_avg\n",
    "        # pre_sbp_avg represented by string\n",
    "        elif (instrument_type == 'string'):\n",
    "            week_val = data.pre_sbp_avg\n",
    "        # crp_avg represented by brass\n",
    "        else:\n",
    "            #continue\n",
    "            week_val = data.crp_avg\n",
    "        if (max_var < 0):\n",
    "            play_instrument = (week_val*100) > min_var\n",
    "        else:\n",
    "            play_instrument = ((week_val*100) >= min_var) and ((week_val*100) <= max_var)\n",
    "        if play_instrument:\n",
    "            sequence.append(addBeatsToSequence(week_val, instrument, ms, week_duration))\n",
    "        ms += week_duration"
   ]
  },
  {
   "cell_type": "code",
   "execution_count": 1080,
   "metadata": {
    "collapsed": true
   },
   "outputs": [],
   "source": [
    "# Sort sequence so beats happen in chronological order\n",
    "sequence = sorted(sequence, key=lambda k: k['elapsed_ms'])\n",
    "\n",
    "# Add milliseconds to sequence\n",
    "elapsed = 0\n",
    "for index, step in enumerate(sequence):\n",
    "    sequence[index]['milliseconds'] = step['elapsed_ms'] - elapsed\n",
    "    elapsed = step['elapsed_ms']\n"
   ]
  },
  {
   "cell_type": "code",
   "execution_count": 1081,
   "metadata": {
    "scrolled": true
   },
   "outputs": [
    {
     "name": "stdout",
     "output_type": "stream",
     "text": [
      "Successfully wrote instruments to file: data/chk_instruments.csv\n",
      "Successfully wrote sequence to file: data/chk_sequence.csv\n"
     ]
    }
   ],
   "source": [
    "\"\"\"\n",
    "Write to the files that will be used by ChucK\n",
    "\"\"\"\n",
    "import csv\n",
    "\n",
    "# Write instruments to file\n",
    "with open(INSTRUMENTS_OUTPUT_FILE, 'w') as f:\n",
    "    w = csv.writer(f)\n",
    "    for index, instrument in enumerate(instruments.iterrows()):\n",
    "        w.writerow([index + 1])\n",
    "        w.writerow([instrument[1]['File']])\n",
    "    print('Successfully wrote instruments to file: '+ INSTRUMENTS_OUTPUT_FILE)\n",
    "\n",
    "# Write sequence to file\n",
    "with open(SEQUENCE_OUTPUT_FILE, 'w') as f:\n",
    "    w = csv.writer(f)\n",
    "    for step in sequence:\n",
    "        w.writerow([step['instrument_index']])\n",
    "        w.writerow([step['position']])\n",
    "        w.writerow([step['gain']])\n",
    "        w.writerow([step['rate']])\n",
    "        w.writerow([step['milliseconds']])\n",
    "    print('Successfully wrote sequence to file: '+ SEQUENCE_OUTPUT_FILE)\n"
   ]
  },
  {
   "cell_type": "code",
   "execution_count": 1082,
   "metadata": {
    "scrolled": false
   },
   "outputs": [],
   "source": [
    "# Plot for visualization\n",
    "#import matplotlib.pyplot as plt\n",
    "\n",
    "#son_vars.plot(y=['idwg_percent_avg', 'albumin_avg', 'pre_sbp_avg', 'crp_avg'], x='weeks_to_death', figsize=(8,6))\n",
    "#fig = plt.gcf()    \n",
    "#fig.set_dpi(800)\n",
    "#plt.show()"
   ]
  },
  {
   "cell_type": "code",
   "execution_count": 1083,
   "metadata": {},
   "outputs": [],
   "source": [
    "#son_vars.reset_index()"
   ]
  },
  {
   "cell_type": "code",
   "execution_count": 1084,
   "metadata": {
    "collapsed": true
   },
   "outputs": [],
   "source": [
    "#df.head()"
   ]
  },
  {
   "cell_type": "code",
   "execution_count": 1085,
   "metadata": {
    "collapsed": true
   },
   "outputs": [],
   "source": [
    "#instruments"
   ]
  },
  {
   "cell_type": "code",
   "execution_count": 1086,
   "metadata": {
    "collapsed": true
   },
   "outputs": [],
   "source": [
    "#sequence"
   ]
  },
  {
   "cell_type": "code",
   "execution_count": null,
   "metadata": {
    "collapsed": true
   },
   "outputs": [],
   "source": []
  }
 ],
 "metadata": {
  "kernelspec": {
   "display_name": "Python 3",
   "language": "python",
   "name": "python3"
  },
  "language_info": {
   "codemirror_mode": {
    "name": "ipython",
    "version": 3
   },
   "file_extension": ".py",
   "mimetype": "text/x-python",
   "name": "python",
   "nbconvert_exporter": "python",
   "pygments_lexer": "ipython3",
   "version": "3.6.3"
  }
 },
 "nbformat": 4,
 "nbformat_minor": 2
}
